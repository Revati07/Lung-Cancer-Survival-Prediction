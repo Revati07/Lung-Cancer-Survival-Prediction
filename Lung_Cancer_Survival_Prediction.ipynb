{
  "nbformat": 4,
  "nbformat_minor": 0,
  "metadata": {
    "colab": {
      "provenance": []
    },
    "kernelspec": {
      "name": "python3",
      "display_name": "Python 3"
    },
    "language_info": {
      "name": "python"
    }
  },
  "cells": [
    {
      "cell_type": "code",
      "execution_count": 21,
      "metadata": {
        "id": "34biz2OLMPpu"
      },
      "outputs": [],
      "source": [
        "# step-1 Import Required Libraries\n",
        "import pandas as pd\n",
        "import numpy as np\n",
        "import matplotlib.pyplot as plt\n",
        "import seaborn as sns\n",
        "import pickle\n",
        "import shap\n",
        "import joblib\n",
        "import tensorflow as tf\n",
        "from tensorflow.keras.models import Sequential\n",
        "from tensorflow.keras.layers import Dense, Dropout\n",
        "from imblearn.over_sampling import SMOTE\n",
        "from sklearn.model_selection import train_test_split, GridSearchCV\n",
        "from sklearn.preprocessing import LabelEncoder, StandardScaler\n",
        "from xgboost import XGBClassifier\n",
        "from sklearn.metrics import accuracy_score, classification_report, confusion_matrix, roc_curve, auc"
      ]
    },
    {
      "cell_type": "code",
      "source": [
        "# step-2 Load and Preprocess Data\n",
        "# Load dataset\n",
        "data = pd.read_csv('/lung cancer pro 1.csv')"
      ],
      "metadata": {
        "id": "OsKqiA2YMvrI"
      },
      "execution_count": 20,
      "outputs": []
    },
    {
      "cell_type": "code",
      "source": [
        "data.info()"
      ],
      "metadata": {
        "id": "e4R_bc9XMvuX",
        "colab": {
          "base_uri": "https://localhost:8080/"
        },
        "outputId": "fa6987b4-2bbf-49c8-9441-32bc8ac954c4"
      },
      "execution_count": 23,
      "outputs": [
        {
          "output_type": "stream",
          "name": "stdout",
          "text": [
            "<class 'pandas.core.frame.DataFrame'>\n",
            "RangeIndex: 890000 entries, 0 to 889999\n",
            "Data columns (total 17 columns):\n",
            " #   Column              Non-Null Count   Dtype  \n",
            "---  ------              --------------   -----  \n",
            " 0   id                  890000 non-null  int64  \n",
            " 1   age                 890000 non-null  int64  \n",
            " 2   gender              890000 non-null  object \n",
            " 3   country             890000 non-null  object \n",
            " 4   diagnosis_date      890000 non-null  object \n",
            " 5   cancer_stage        890000 non-null  object \n",
            " 6   family_history      890000 non-null  object \n",
            " 7   smoking_status      890000 non-null  object \n",
            " 8   bmi                 890000 non-null  float64\n",
            " 9   cholesterol_level   890000 non-null  int64  \n",
            " 10  hypertension        890000 non-null  int64  \n",
            " 11  asthma              890000 non-null  int64  \n",
            " 12  cirrhosis           890000 non-null  int64  \n",
            " 13  other_cancer        890000 non-null  int64  \n",
            " 14  treatment_type      890000 non-null  object \n",
            " 15  end_treatment_date  890000 non-null  object \n",
            " 16  survived            890000 non-null  int64  \n",
            "dtypes: float64(1), int64(8), object(8)\n",
            "memory usage: 115.4+ MB\n"
          ]
        }
      ]
    },
    {
      "cell_type": "code",
      "source": [
        "print(data.head())"
      ],
      "metadata": {
        "id": "Y46VKAWmMvxg",
        "colab": {
          "base_uri": "https://localhost:8080/"
        },
        "outputId": "71413b5e-14e7-420f-bbc5-e7b840b3d119"
      },
      "execution_count": 22,
      "outputs": [
        {
          "output_type": "stream",
          "name": "stdout",
          "text": [
            "   id  age  gender      country diagnosis_date cancer_stage family_history  \\\n",
            "0   1   64    Male       Sweden     05-04-2016      Stage I            Yes   \n",
            "1   2   50  Female  Netherlands     20-04-2023    Stage III            Yes   \n",
            "2   3   65  Female      Hungary     05-04-2023    Stage III            Yes   \n",
            "3   4   51  Female      Belgium     05-02-2016      Stage I             No   \n",
            "4   5   37    Male   Luxembourg     29-11-2023      Stage I             No   \n",
            "\n",
            "   smoking_status   bmi  cholesterol_level  hypertension  asthma  cirrhosis  \\\n",
            "0  Passive Smoker  29.4                199             0       0          1   \n",
            "1  Passive Smoker  41.2                280             1       1          0   \n",
            "2   Former Smoker  44.0                268             1       1          0   \n",
            "3  Passive Smoker  43.0                241             1       1          0   \n",
            "4  Passive Smoker  19.7                178             0       0          0   \n",
            "\n",
            "   other_cancer treatment_type end_treatment_date  survived  \n",
            "0             0   Chemotherapy         10-09-2017         0  \n",
            "1             0        Surgery         17-06-2024         1  \n",
            "2             0       Combined         09-04-2024         0  \n",
            "3             0   Chemotherapy         23-04-2017         0  \n",
            "4             0       Combined         08-01-2025         0  \n"
          ]
        }
      ]
    },
    {
      "cell_type": "code",
      "source": [
        "# Print the number of rows (records)\n",
        "print(f\"Number of records: {data.shape[0]}\")"
      ],
      "metadata": {
        "id": "FcVyYqo3Mv3h"
      },
      "execution_count": null,
      "outputs": []
    },
    {
      "cell_type": "code",
      "source": [
        "# Handle missing values\n",
        "data = data.dropna()"
      ],
      "metadata": {
        "id": "gLyPWKN8Mv6Z"
      },
      "execution_count": null,
      "outputs": []
    },
    {
      "cell_type": "code",
      "source": [
        "# Encode categorical variables\n",
        "label_encoders = {}\n",
        "categorical_columns = ['gender', 'country', 'cancer_stage', 'family_history', 'smoking_status',\n",
        "                       'hypertension', 'asthma', 'cirrhosis', 'other_cancer', 'treatment_type', 'survived']\n",
        "\n",
        "for col in categorical_columns:\n",
        "    le = LabelEncoder()\n",
        "    data[col] = le.fit_transform(data[col])\n",
        "    label_encoders[col] = le"
      ],
      "metadata": {
        "id": "4Gb0-Jw9Mv9O"
      },
      "execution_count": 19,
      "outputs": []
    },
    {
      "cell_type": "code",
      "source": [
        "# Drop unnecessary columns\n",
        "data.drop(columns=['id', 'diagnosis_date', 'end_treatment_date'], inplace=True)"
      ],
      "metadata": {
        "id": "MI4omOlQMwAG"
      },
      "execution_count": 24,
      "outputs": []
    },
    {
      "cell_type": "code",
      "source": [
        "# Feature-target split\n",
        "X = data.drop(columns=['survived'])\n",
        "y = data['survived']"
      ],
      "metadata": {
        "id": "QSxuhY3BMwCb"
      },
      "execution_count": null,
      "outputs": []
    },
    {
      "cell_type": "code",
      "source": [
        "# step-3 Train-Test Split & Data Scaling\n",
        "# Split dataset\n",
        "X_train, X_test, y_train, y_test = train_test_split(X, y, test_size=0.2, random_state=42)"
      ],
      "metadata": {
        "id": "9HcxUfQOOcE9"
      },
      "execution_count": null,
      "outputs": []
    },
    {
      "cell_type": "code",
      "source": [
        "# Standardize numerical features\n",
        "scaler = StandardScaler()\n",
        "X_train = scaler.fit_transform(X_train)\n",
        "X_test = scaler.transform(X_test)"
      ],
      "metadata": {
        "id": "IDkXY9PzOcIH"
      },
      "execution_count": null,
      "outputs": []
    },
    {
      "cell_type": "code",
      "source": [
        "# Apply SMOTE to balance dataset\n",
        "smote = SMOTE(random_state=42)\n",
        "X_train, y_train = smote.fit_resample(X_train, y_train)"
      ],
      "metadata": {
        "id": "hSdW3dxsOcK6"
      },
      "execution_count": null,
      "outputs": []
    },
    {
      "cell_type": "code",
      "source": [
        "# step-4 Train XGBoost Model\n",
        "param_grid = {\n",
        "    'n_estimators': [100, 200, 300],\n",
        "    'max_depth': [3, 5, 7],\n",
        "    'learning_rate': [0.01, 0.05, 0.1]\n",
        "}\n",
        "\n",
        "grid_search = GridSearchCV(XGBClassifier(random_state=42), param_grid, cv=5, n_jobs=-1, verbose=2)\n",
        "grid_search.fit(X_train, y_train)\n",
        "\n",
        "xgb_model = grid_search.best_estimator_"
      ],
      "metadata": {
        "colab": {
          "base_uri": "https://localhost:8080/"
        },
        "id": "sswv-NtrOcQW",
        "outputId": "9fad243a-4358-4bf7-9091-fd4717484aaa"
      },
      "execution_count": 18,
      "outputs": [
        {
          "metadata": {
            "tags": null
          },
          "name": "stdout",
          "output_type": "stream",
          "text": [
            "Fitting 5 folds for each of 27 candidates, totalling 135 fits\n"
          ]
        }
      ]
    },
    {
      "cell_type": "code",
      "source": [
        "# step-5 Train Deep Learning Model\n",
        "nn_model = Sequential([\n",
        "    Dense(128, activation='relu', input_shape=(X_train.shape[1],)),\n",
        "    Dropout(0.3),\n",
        "    Dense(64, activation='relu'),\n",
        "    Dropout(0.3),\n",
        "    Dense(32, activation='relu'),\n",
        "    Dense(1, activation='sigmoid')\n",
        "])\n",
        "\n",
        "nn_model.compile(optimizer='adam', loss='binary_crossentropy', metrics=['accuracy'])\n",
        "nn_model.fit(X_train, y_train, epochs=50, batch_size=64, validation_data=(X_test, y_test))"
      ],
      "metadata": {
        "id": "ivl9BSwqOcUj",
        "colab": {
          "base_uri": "https://localhost:8080/"
        },
        "outputId": "fb7e0d02-9cca-4cc8-8d0a-8b97f823a58d"
      },
      "execution_count": 25,
      "outputs": [
        {
          "metadata": {
            "tags": null
          },
          "name": "stderr",
          "output_type": "stream",
          "text": [
            "/usr/local/lib/python3.11/dist-packages/keras/src/layers/core/dense.py:87: UserWarning: Do not pass an `input_shape`/`input_dim` argument to a layer. When using Sequential models, prefer using an `Input(shape)` object as the first layer in the model instead.\n",
            "  super().__init__(activity_regularizer=activity_regularizer, **kwargs)\n"
          ]
        },
        {
          "output_type": "stream",
          "name": "stdout",
          "text": [
            "Epoch 1/50\n",
            "\u001b[1m17355/17355\u001b[0m \u001b[32m━━━━━━━━━━━━━━━━━━━━\u001b[0m\u001b[37m\u001b[0m \u001b[1m70s\u001b[0m 4ms/step - accuracy: 0.5060 - loss: 0.6936 - val_accuracy: 0.3795 - val_loss: 0.7038\n",
            "Epoch 2/50\n",
            "\u001b[1m17355/17355\u001b[0m \u001b[32m━━━━━━━━━━━━━━━━━━━━\u001b[0m\u001b[37m\u001b[0m \u001b[1m80s\u001b[0m 4ms/step - accuracy: 0.5196 - loss: 0.6917 - val_accuracy: 0.4377 - val_loss: 0.6923\n",
            "Epoch 3/50\n",
            "\u001b[1m17355/17355\u001b[0m \u001b[32m━━━━━━━━━━━━━━━━━━━━\u001b[0m\u001b[37m\u001b[0m \u001b[1m87s\u001b[0m 4ms/step - accuracy: 0.5234 - loss: 0.6912 - val_accuracy: 0.4677 - val_loss: 0.6880\n",
            "Epoch 4/50\n",
            "\u001b[1m17355/17355\u001b[0m \u001b[32m━━━━━━━━━━━━━━━━━━━━\u001b[0m\u001b[37m\u001b[0m \u001b[1m82s\u001b[0m 4ms/step - accuracy: 0.5265 - loss: 0.6907 - val_accuracy: 0.4191 - val_loss: 0.6953\n",
            "Epoch 5/50\n",
            "\u001b[1m17355/17355\u001b[0m \u001b[32m━━━━━━━━━━━━━━━━━━━━\u001b[0m\u001b[37m\u001b[0m \u001b[1m65s\u001b[0m 4ms/step - accuracy: 0.5309 - loss: 0.6900 - val_accuracy: 0.4260 - val_loss: 0.6964\n",
            "Epoch 6/50\n",
            "\u001b[1m17355/17355\u001b[0m \u001b[32m━━━━━━━━━━━━━━━━━━━━\u001b[0m\u001b[37m\u001b[0m \u001b[1m80s\u001b[0m 4ms/step - accuracy: 0.5331 - loss: 0.6895 - val_accuracy: 0.4331 - val_loss: 0.6954\n",
            "Epoch 7/50\n",
            "\u001b[1m17355/17355\u001b[0m \u001b[32m━━━━━━━━━━━━━━━━━━━━\u001b[0m\u001b[37m\u001b[0m \u001b[1m69s\u001b[0m 4ms/step - accuracy: 0.5355 - loss: 0.6888 - val_accuracy: 0.4297 - val_loss: 0.6993\n",
            "Epoch 8/50\n",
            "\u001b[1m17355/17355\u001b[0m \u001b[32m━━━━━━━━━━━━━━━━━━━━\u001b[0m\u001b[37m\u001b[0m \u001b[1m64s\u001b[0m 4ms/step - accuracy: 0.5378 - loss: 0.6883 - val_accuracy: 0.4493 - val_loss: 0.7007\n",
            "Epoch 9/50\n",
            "\u001b[1m17355/17355\u001b[0m \u001b[32m━━━━━━━━━━━━━━━━━━━━\u001b[0m\u001b[37m\u001b[0m \u001b[1m64s\u001b[0m 4ms/step - accuracy: 0.5399 - loss: 0.6881 - val_accuracy: 0.4541 - val_loss: 0.7033\n",
            "Epoch 10/50\n",
            "\u001b[1m17355/17355\u001b[0m \u001b[32m━━━━━━━━━━━━━━━━━━━━\u001b[0m\u001b[37m\u001b[0m \u001b[1m83s\u001b[0m 4ms/step - accuracy: 0.5413 - loss: 0.6876 - val_accuracy: 0.4660 - val_loss: 0.7000\n",
            "Epoch 11/50\n",
            "\u001b[1m17355/17355\u001b[0m \u001b[32m━━━━━━━━━━━━━━━━━━━━\u001b[0m\u001b[37m\u001b[0m \u001b[1m65s\u001b[0m 4ms/step - accuracy: 0.5405 - loss: 0.6878 - val_accuracy: 0.4349 - val_loss: 0.7080\n",
            "Epoch 12/50\n",
            "\u001b[1m17355/17355\u001b[0m \u001b[32m━━━━━━━━━━━━━━━━━━━━\u001b[0m\u001b[37m\u001b[0m \u001b[1m66s\u001b[0m 4ms/step - accuracy: 0.5419 - loss: 0.6876 - val_accuracy: 0.4634 - val_loss: 0.6996\n",
            "Epoch 13/50\n",
            "\u001b[1m17355/17355\u001b[0m \u001b[32m━━━━━━━━━━━━━━━━━━━━\u001b[0m\u001b[37m\u001b[0m \u001b[1m65s\u001b[0m 4ms/step - accuracy: 0.5424 - loss: 0.6873 - val_accuracy: 0.4524 - val_loss: 0.6959\n",
            "Epoch 14/50\n",
            "\u001b[1m17355/17355\u001b[0m \u001b[32m━━━━━━━━━━━━━━━━━━━━\u001b[0m\u001b[37m\u001b[0m \u001b[1m71s\u001b[0m 4ms/step - accuracy: 0.5430 - loss: 0.6872 - val_accuracy: 0.4354 - val_loss: 0.7057\n",
            "Epoch 15/50\n",
            "\u001b[1m17355/17355\u001b[0m \u001b[32m━━━━━━━━━━━━━━━━━━━━\u001b[0m\u001b[37m\u001b[0m \u001b[1m66s\u001b[0m 4ms/step - accuracy: 0.5438 - loss: 0.6871 - val_accuracy: 0.4623 - val_loss: 0.6895\n",
            "Epoch 16/50\n",
            "\u001b[1m17355/17355\u001b[0m \u001b[32m━━━━━━━━━━━━━━━━━━━━\u001b[0m\u001b[37m\u001b[0m \u001b[1m67s\u001b[0m 4ms/step - accuracy: 0.5451 - loss: 0.6869 - val_accuracy: 0.4280 - val_loss: 0.7019\n",
            "Epoch 17/50\n",
            "\u001b[1m17355/17355\u001b[0m \u001b[32m━━━━━━━━━━━━━━━━━━━━\u001b[0m\u001b[37m\u001b[0m \u001b[1m81s\u001b[0m 4ms/step - accuracy: 0.5453 - loss: 0.6868 - val_accuracy: 0.4429 - val_loss: 0.6992\n",
            "Epoch 18/50\n",
            "\u001b[1m17355/17355\u001b[0m \u001b[32m━━━━━━━━━━━━━━━━━━━━\u001b[0m\u001b[37m\u001b[0m \u001b[1m67s\u001b[0m 4ms/step - accuracy: 0.5466 - loss: 0.6864 - val_accuracy: 0.4547 - val_loss: 0.7057\n",
            "Epoch 19/50\n",
            "\u001b[1m17355/17355\u001b[0m \u001b[32m━━━━━━━━━━━━━━━━━━━━\u001b[0m\u001b[37m\u001b[0m \u001b[1m70s\u001b[0m 4ms/step - accuracy: 0.5462 - loss: 0.6864 - val_accuracy: 0.4709 - val_loss: 0.7017\n",
            "Epoch 20/50\n",
            "\u001b[1m17355/17355\u001b[0m \u001b[32m━━━━━━━━━━━━━━━━━━━━\u001b[0m\u001b[37m\u001b[0m \u001b[1m85s\u001b[0m 4ms/step - accuracy: 0.5460 - loss: 0.6864 - val_accuracy: 0.4373 - val_loss: 0.7017\n",
            "Epoch 21/50\n",
            "\u001b[1m17355/17355\u001b[0m \u001b[32m━━━━━━━━━━━━━━━━━━━━\u001b[0m\u001b[37m\u001b[0m \u001b[1m78s\u001b[0m 4ms/step - accuracy: 0.5468 - loss: 0.6863 - val_accuracy: 0.4302 - val_loss: 0.7065\n",
            "Epoch 22/50\n",
            "\u001b[1m17355/17355\u001b[0m \u001b[32m━━━━━━━━━━━━━━━━━━━━\u001b[0m\u001b[37m\u001b[0m \u001b[1m82s\u001b[0m 4ms/step - accuracy: 0.5472 - loss: 0.6862 - val_accuracy: 0.4543 - val_loss: 0.6955\n",
            "Epoch 23/50\n",
            "\u001b[1m17355/17355\u001b[0m \u001b[32m━━━━━━━━━━━━━━━━━━━━\u001b[0m\u001b[37m\u001b[0m \u001b[1m68s\u001b[0m 4ms/step - accuracy: 0.5479 - loss: 0.6860 - val_accuracy: 0.4613 - val_loss: 0.6990\n",
            "Epoch 24/50\n",
            "\u001b[1m17355/17355\u001b[0m \u001b[32m━━━━━━━━━━━━━━━━━━━━\u001b[0m\u001b[37m\u001b[0m \u001b[1m73s\u001b[0m 4ms/step - accuracy: 0.5476 - loss: 0.6858 - val_accuracy: 0.4443 - val_loss: 0.6965\n",
            "Epoch 25/50\n",
            "\u001b[1m17355/17355\u001b[0m \u001b[32m━━━━━━━━━━━━━━━━━━━━\u001b[0m\u001b[37m\u001b[0m \u001b[1m81s\u001b[0m 4ms/step - accuracy: 0.5481 - loss: 0.6858 - val_accuracy: 0.4414 - val_loss: 0.7021\n",
            "Epoch 26/50\n",
            "\u001b[1m17355/17355\u001b[0m \u001b[32m━━━━━━━━━━━━━━━━━━━━\u001b[0m\u001b[37m\u001b[0m \u001b[1m81s\u001b[0m 4ms/step - accuracy: 0.5475 - loss: 0.6858 - val_accuracy: 0.4143 - val_loss: 0.7094\n",
            "Epoch 27/50\n",
            "\u001b[1m17355/17355\u001b[0m \u001b[32m━━━━━━━━━━━━━━━━━━━━\u001b[0m\u001b[37m\u001b[0m \u001b[1m68s\u001b[0m 4ms/step - accuracy: 0.5491 - loss: 0.6856 - val_accuracy: 0.4459 - val_loss: 0.7041\n",
            "Epoch 28/50\n",
            "\u001b[1m17355/17355\u001b[0m \u001b[32m━━━━━━━━━━━━━━━━━━━━\u001b[0m\u001b[37m\u001b[0m \u001b[1m73s\u001b[0m 4ms/step - accuracy: 0.5485 - loss: 0.6855 - val_accuracy: 0.4439 - val_loss: 0.7015\n",
            "Epoch 29/50\n",
            "\u001b[1m17355/17355\u001b[0m \u001b[32m━━━━━━━━━━━━━━━━━━━━\u001b[0m\u001b[37m\u001b[0m \u001b[1m76s\u001b[0m 4ms/step - accuracy: 0.5485 - loss: 0.6857 - val_accuracy: 0.4747 - val_loss: 0.6954\n",
            "Epoch 30/50\n",
            "\u001b[1m17355/17355\u001b[0m \u001b[32m━━━━━━━━━━━━━━━━━━━━\u001b[0m\u001b[37m\u001b[0m \u001b[1m80s\u001b[0m 4ms/step - accuracy: 0.5490 - loss: 0.6856 - val_accuracy: 0.4537 - val_loss: 0.6923\n",
            "Epoch 31/50\n",
            "\u001b[1m17355/17355\u001b[0m \u001b[32m━━━━━━━━━━━━━━━━━━━━\u001b[0m\u001b[37m\u001b[0m \u001b[1m66s\u001b[0m 4ms/step - accuracy: 0.5495 - loss: 0.6854 - val_accuracy: 0.4295 - val_loss: 0.7095\n",
            "Epoch 32/50\n",
            "\u001b[1m17355/17355\u001b[0m \u001b[32m━━━━━━━━━━━━━━━━━━━━\u001b[0m\u001b[37m\u001b[0m \u001b[1m87s\u001b[0m 4ms/step - accuracy: 0.5495 - loss: 0.6855 - val_accuracy: 0.4285 - val_loss: 0.7026\n",
            "Epoch 33/50\n",
            "\u001b[1m17355/17355\u001b[0m \u001b[32m━━━━━━━━━━━━━━━━━━━━\u001b[0m\u001b[37m\u001b[0m \u001b[1m69s\u001b[0m 4ms/step - accuracy: 0.5497 - loss: 0.6854 - val_accuracy: 0.4539 - val_loss: 0.6952\n",
            "Epoch 34/50\n",
            "\u001b[1m17355/17355\u001b[0m \u001b[32m━━━━━━━━━━━━━━━━━━━━\u001b[0m\u001b[37m\u001b[0m \u001b[1m86s\u001b[0m 4ms/step - accuracy: 0.5498 - loss: 0.6854 - val_accuracy: 0.4685 - val_loss: 0.6888\n",
            "Epoch 35/50\n",
            "\u001b[1m17355/17355\u001b[0m \u001b[32m━━━━━━━━━━━━━━━━━━━━\u001b[0m\u001b[37m\u001b[0m \u001b[1m82s\u001b[0m 4ms/step - accuracy: 0.5498 - loss: 0.6855 - val_accuracy: 0.4392 - val_loss: 0.7036\n",
            "Epoch 36/50\n",
            "\u001b[1m17355/17355\u001b[0m \u001b[32m━━━━━━━━━━━━━━━━━━━━\u001b[0m\u001b[37m\u001b[0m \u001b[1m67s\u001b[0m 4ms/step - accuracy: 0.5504 - loss: 0.6851 - val_accuracy: 0.4210 - val_loss: 0.7079\n",
            "Epoch 37/50\n",
            "\u001b[1m17355/17355\u001b[0m \u001b[32m━━━━━━━━━━━━━━━━━━━━\u001b[0m\u001b[37m\u001b[0m \u001b[1m87s\u001b[0m 4ms/step - accuracy: 0.5503 - loss: 0.6852 - val_accuracy: 0.4238 - val_loss: 0.7083\n",
            "Epoch 38/50\n",
            "\u001b[1m17355/17355\u001b[0m \u001b[32m━━━━━━━━━━━━━━━━━━━━\u001b[0m\u001b[37m\u001b[0m \u001b[1m65s\u001b[0m 4ms/step - accuracy: 0.5513 - loss: 0.6848 - val_accuracy: 0.4315 - val_loss: 0.6987\n",
            "Epoch 39/50\n",
            "\u001b[1m17355/17355\u001b[0m \u001b[32m━━━━━━━━━━━━━━━━━━━━\u001b[0m\u001b[37m\u001b[0m \u001b[1m62s\u001b[0m 4ms/step - accuracy: 0.5514 - loss: 0.6850 - val_accuracy: 0.4248 - val_loss: 0.6961\n",
            "Epoch 40/50\n",
            "\u001b[1m17355/17355\u001b[0m \u001b[32m━━━━━━━━━━━━━━━━━━━━\u001b[0m\u001b[37m\u001b[0m \u001b[1m66s\u001b[0m 4ms/step - accuracy: 0.5503 - loss: 0.6852 - val_accuracy: 0.4434 - val_loss: 0.6936\n",
            "Epoch 41/50\n",
            "\u001b[1m17355/17355\u001b[0m \u001b[32m━━━━━━━━━━━━━━━━━━━━\u001b[0m\u001b[37m\u001b[0m \u001b[1m88s\u001b[0m 4ms/step - accuracy: 0.5507 - loss: 0.6850 - val_accuracy: 0.4327 - val_loss: 0.6949\n",
            "Epoch 42/50\n",
            "\u001b[1m17355/17355\u001b[0m \u001b[32m━━━━━━━━━━━━━━━━━━━━\u001b[0m\u001b[37m\u001b[0m \u001b[1m79s\u001b[0m 4ms/step - accuracy: 0.5506 - loss: 0.6850 - val_accuracy: 0.4211 - val_loss: 0.6996\n",
            "Epoch 43/50\n",
            "\u001b[1m17355/17355\u001b[0m \u001b[32m━━━━━━━━━━━━━━━━━━━━\u001b[0m\u001b[37m\u001b[0m \u001b[1m68s\u001b[0m 4ms/step - accuracy: 0.5509 - loss: 0.6849 - val_accuracy: 0.4519 - val_loss: 0.6882\n",
            "Epoch 44/50\n",
            "\u001b[1m17355/17355\u001b[0m \u001b[32m━━━━━━━━━━━━━━━━━━━━\u001b[0m\u001b[37m\u001b[0m \u001b[1m87s\u001b[0m 4ms/step - accuracy: 0.5507 - loss: 0.6848 - val_accuracy: 0.4176 - val_loss: 0.6989\n",
            "Epoch 45/50\n",
            "\u001b[1m17355/17355\u001b[0m \u001b[32m━━━━━━━━━━━━━━━━━━━━\u001b[0m\u001b[37m\u001b[0m \u001b[1m67s\u001b[0m 4ms/step - accuracy: 0.5509 - loss: 0.6849 - val_accuracy: 0.4496 - val_loss: 0.6940\n",
            "Epoch 46/50\n",
            "\u001b[1m17355/17355\u001b[0m \u001b[32m━━━━━━━━━━━━━━━━━━━━\u001b[0m\u001b[37m\u001b[0m \u001b[1m68s\u001b[0m 4ms/step - accuracy: 0.5507 - loss: 0.6849 - val_accuracy: 0.4424 - val_loss: 0.6984\n",
            "Epoch 47/50\n",
            "\u001b[1m17355/17355\u001b[0m \u001b[32m━━━━━━━━━━━━━━━━━━━━\u001b[0m\u001b[37m\u001b[0m \u001b[1m68s\u001b[0m 4ms/step - accuracy: 0.5514 - loss: 0.6846 - val_accuracy: 0.4733 - val_loss: 0.6847\n",
            "Epoch 48/50\n",
            "\u001b[1m17355/17355\u001b[0m \u001b[32m━━━━━━━━━━━━━━━━━━━━\u001b[0m\u001b[37m\u001b[0m \u001b[1m67s\u001b[0m 4ms/step - accuracy: 0.5517 - loss: 0.6846 - val_accuracy: 0.4394 - val_loss: 0.6987\n",
            "Epoch 49/50\n",
            "\u001b[1m17355/17355\u001b[0m \u001b[32m━━━━━━━━━━━━━━━━━━━━\u001b[0m\u001b[37m\u001b[0m \u001b[1m85s\u001b[0m 4ms/step - accuracy: 0.5527 - loss: 0.6845 - val_accuracy: 0.4133 - val_loss: 0.7083\n",
            "Epoch 50/50\n",
            "\u001b[1m17355/17355\u001b[0m \u001b[32m━━━━━━━━━━━━━━━━━━━━\u001b[0m\u001b[37m\u001b[0m \u001b[1m78s\u001b[0m 4ms/step - accuracy: 0.5519 - loss: 0.6846 - val_accuracy: 0.4380 - val_loss: 0.6924\n"
          ]
        },
        {
          "output_type": "execute_result",
          "data": {
            "text/plain": [
              "<keras.src.callbacks.history.History at 0x7f8f47a316d0>"
            ]
          },
          "metadata": {},
          "execution_count": 25
        }
      ]
    },
    {
      "cell_type": "code",
      "source": [
        "# step-6 Model Evaluation\n",
        "# XGBoost Performance\n",
        "y_pred_xgb = xgb_model.predict(X_test)\n",
        "accuracy_xgb = accuracy_score(y_test, y_pred_xgb)\n",
        "print(f'XGBoost Accuracy: {accuracy_xgb:.2f}')\n",
        "print(classification_report(y_test, y_pred_xgb))"
      ],
      "metadata": {
        "id": "KXCuAz0-OcXk",
        "colab": {
          "base_uri": "https://localhost:8080/"
        },
        "outputId": "10eb5a39-a6ad-461a-b842-ae69fd57929a"
      },
      "execution_count": 26,
      "outputs": [
        {
          "output_type": "stream",
          "name": "stdout",
          "text": [
            "XGBoost Accuracy: 0.78\n",
            "              precision    recall  f1-score   support\n",
            "\n",
            "           0       0.78      1.00      0.88    138639\n",
            "           1       0.00      0.00      0.00     39361\n",
            "\n",
            "    accuracy                           0.78    178000\n",
            "   macro avg       0.39      0.50      0.44    178000\n",
            "weighted avg       0.61      0.78      0.68    178000\n",
            "\n"
          ]
        }
      ]
    },
    {
      "cell_type": "code",
      "source": [
        "# Neural Network Performance\n",
        "y_pred_nn = (nn_model.predict(X_test) > 0.5).astype(int)\n",
        "accuracy_nn = accuracy_score(y_test, y_pred_nn)\n",
        "print(f'Neural Network Accuracy: {accuracy_nn:.2f}')\n",
        "print(classification_report(y_test, y_pred_nn))"
      ],
      "metadata": {
        "id": "fCO4kW9QOcaq",
        "colab": {
          "base_uri": "https://localhost:8080/"
        },
        "outputId": "11f037e0-d694-40c2-9e3a-a8f67e2e8313"
      },
      "execution_count": 27,
      "outputs": [
        {
          "output_type": "stream",
          "name": "stdout",
          "text": [
            "\u001b[1m5563/5563\u001b[0m \u001b[32m━━━━━━━━━━━━━━━━━━━━\u001b[0m\u001b[37m\u001b[0m \u001b[1m20s\u001b[0m 4ms/step\n",
            "Neural Network Accuracy: 0.44\n",
            "              precision    recall  f1-score   support\n",
            "\n",
            "           0       0.78      0.39      0.52    138639\n",
            "           1       0.22      0.62      0.33     39361\n",
            "\n",
            "    accuracy                           0.44    178000\n",
            "   macro avg       0.50      0.50      0.42    178000\n",
            "weighted avg       0.66      0.44      0.48    178000\n",
            "\n"
          ]
        }
      ]
    },
    {
      "cell_type": "code",
      "source": [
        "# step-7 Save Models\n",
        "with open('lung_cancer_xgb_model.pkl', 'wb') as f:\n",
        "    pickle.dump(xgb_model, f)\n",
        "nn_model.save('lung_cancer_nn_model.h5')\n",
        "joblib.dump(scaler, 'scaler.pkl')"
      ],
      "metadata": {
        "id": "ntttrwuFMwFe",
        "colab": {
          "base_uri": "https://localhost:8080/"
        },
        "outputId": "a6aa4f5a-c656-455d-d517-d91735aefd36"
      },
      "execution_count": 28,
      "outputs": [
        {
          "output_type": "stream",
          "name": "stderr",
          "text": [
            "WARNING:absl:You are saving your model as an HDF5 file via `model.save()` or `keras.saving.save_model(model)`. This file format is considered legacy. We recommend using instead the native Keras format, e.g. `model.save('my_model.keras')` or `keras.saving.save_model(model, 'my_model.keras')`. \n"
          ]
        },
        {
          "output_type": "execute_result",
          "data": {
            "text/plain": [
              "['scaler.pkl']"
            ]
          },
          "metadata": {},
          "execution_count": 28
        }
      ]
    },
    {
      "cell_type": "code",
      "source": [
        "# step-8 Compare Performance (Confusion Matrix & ROC Curve)\n",
        "# Confusion Matrix\n",
        "plt.figure(figsize=(12, 5))\n",
        "plt.subplot(1, 2, 1)\n",
        "sns.heatmap(confusion_matrix(y_test, y_pred_xgb), annot=True, fmt='d', cmap='Blues')\n",
        "plt.title('XGBoost Confusion Matrix')"
      ],
      "metadata": {
        "id": "0exJE7J6MwLU",
        "colab": {
          "base_uri": "https://localhost:8080/",
          "height": 485
        },
        "outputId": "0de9f5c8-8ee7-4ee1-906d-3b68f917dbb2"
      },
      "execution_count": 29,
      "outputs": [
        {
          "output_type": "execute_result",
          "data": {
            "text/plain": [
              "Text(0.5, 1.0, 'XGBoost Confusion Matrix')"
            ]
          },
          "metadata": {},
          "execution_count": 29
        },
        {
          "output_type": "display_data",
          "data": {
            "text/plain": [
              "<Figure size 1200x500 with 2 Axes>"
            ],
            "image/png": "[encoded data removed]"
          },
          "metadata": {}
        }
      ]
    },
    {
      "cell_type": "code",
      "source": [
        "plt.subplot(1, 2, 2)\n",
        "sns.heatmap(confusion_matrix(y_test, y_pred_nn), annot=True, fmt='d', cmap='Greens')\n",
        "plt.title('Neural Network Confusion Matrix')\n",
        "plt.show()"
      ],
      "metadata": {
        "id": "OHH3m1cdPy9k",
        "colab": {
          "base_uri": "https://localhost:8080/",
          "height": 452
        },
        "outputId": "610fc891-3a34-421a-9e37-d4664c01a4e9"
      },
      "execution_count": 30,
      "outputs": [
        {
          "output_type": "display_data",
          "data": {
            "text/plain": [
              "<Figure size 640x480 with 2 Axes>"
            ],
            "image/png": "[encoded data removed]"
          },
          "metadata": {}
        }
      ]
    },
    {
      "cell_type": "code",
      "source": [
        "# ROC Curve\n",
        "fpr_xgb, tpr_xgb, _ = roc_curve(y_test, xgb_model.predict_proba(X_test)[:, 1])\n",
        "fpr_nn, tpr_nn, _ = roc_curve(y_test, nn_model.predict(X_test).flatten())\n",
        "\n",
        "plt.figure(figsize=(6, 4))\n",
        "plt.plot(fpr_xgb, tpr_xgb, color='blue', label='XGBoost')\n",
        "plt.plot(fpr_nn, tpr_nn, color='red', label='Neural Network')\n",
        "plt.plot([0, 1], [0, 1], color='grey', linestyle='--')\n",
        "plt.xlabel('False Positive Rate')\n",
        "plt.ylabel('True Positive Rate')\n",
        "plt.title('ROC Curve Comparison')\n",
        "plt.legend()\n",
        "plt.show()"
      ],
      "metadata": {
        "id": "fN_VeFiKPzAt",
        "colab": {
          "base_uri": "https://localhost:8080/",
          "height": 427
        },
        "outputId": "a7edbf11-c213-4c61-ff46-2b6855df76ef"
      },
      "execution_count": 31,
      "outputs": [
        {
          "output_type": "stream",
          "name": "stdout",
          "text": [
            "\u001b[1m5563/5563\u001b[0m \u001b[32m━━━━━━━━━━━━━━━━━━━━\u001b[0m\u001b[37m\u001b[0m \u001b[1m10s\u001b[0m 2ms/step\n"
          ]
        },
        {
          "output_type": "display_data",
          "data": {
            "text/plain": [
              "<Figure size 600x400 with 1 Axes>"
            ],
            "image/png": "[encoded data removed]"
          },
          "metadata": {}
        }
      ]
    },
    {
      "cell_type": "code",
      "source": [
        "# step-9 Conclusion\n",
        "print(\"XGBoost Accuracy:\", accuracy_xgb)\n",
        "print(\"Neural Network Accuracy:\", accuracy_nn)\n",
        "if accuracy_nn > accuracy_xgb:\n",
        "    print(\"Deep Learning performs better!\")\n",
        "else:\n",
        "    print(\"XGBoost performs better!\")"
      ],
      "metadata": {
        "id": "LLjk1UELP5yK",
        "colab": {
          "base_uri": "https://localhost:8080/"
        },
        "outputId": "95a84647-b94a-42a4-fed6-5f43c6ccfcdb"
      },
      "execution_count": 32,
      "outputs": [
        {
          "output_type": "stream",
          "name": "stdout",
          "text": [
            "XGBoost Accuracy: 0.7788539325842697\n",
            "Neural Network Accuracy: 0.43799438202247193\n",
            "XGBoost performs better!\n"
          ]
        }
      ]
    },
    {
      "cell_type": "code",
      "source": [],
      "metadata": {
        "id": "LQjw8gFpP55t"
      },
      "execution_count": null,
      "outputs": []
    }
  ]
}